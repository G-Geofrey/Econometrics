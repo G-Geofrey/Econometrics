{
 "cells": [
  {
   "cell_type": "code",
   "execution_count": 2,
   "id": "6932487a",
   "metadata": {},
   "outputs": [
    {
     "data": {
      "text/html": [
       "<style>.container {width:85%;}</style>"
      ],
      "text/plain": [
       "<IPython.core.display.HTML object>"
      ]
     },
     "metadata": {},
     "output_type": "display_data"
    }
   ],
   "source": [
    "from IPython.display import display, HTML\n",
    "display(HTML(\"<style>.container {width:85%;}</style>\"))"
   ]
  },
  {
   "cell_type": "code",
   "execution_count": 5,
   "id": "befd9214",
   "metadata": {},
   "outputs": [],
   "source": [
    "import numpy as np\n",
    "import pandas as pd\n",
    "import warnings\n",
    "import scipy.stats as stats\n",
    "import statsmodels.api as sm\n",
    "from statsmodels.discrete.discrete_model import MultinomialModel\n",
    "\n",
    "pd.set_option(\"display.max_columns\", 100)\n",
    "pd.set_option(\"display.max_rows\", 100)\n",
    "pd.set_option('display.float_format', lambda x:'{:.4f}'.format(x))\n",
    "warnings.filterwarnings(\"ignore\")"
   ]
  },
  {
   "cell_type": "markdown",
   "id": "1a7539eb",
   "metadata": {},
   "source": [
    "## Data"
   ]
  },
  {
   "cell_type": "code",
   "execution_count": 21,
   "id": "971175b0",
   "metadata": {},
   "outputs": [
    {
     "data": {
      "text/html": [
       "<div>\n",
       "<style scoped>\n",
       "    .dataframe tbody tr th:only-of-type {\n",
       "        vertical-align: middle;\n",
       "    }\n",
       "\n",
       "    .dataframe tbody tr th {\n",
       "        vertical-align: top;\n",
       "    }\n",
       "\n",
       "    .dataframe thead th {\n",
       "        text-align: right;\n",
       "    }\n",
       "</style>\n",
       "<table border=\"1\" class=\"dataframe\">\n",
       "  <thead>\n",
       "    <tr style=\"text-align: right;\">\n",
       "      <th></th>\n",
       "      <th>workreq</th>\n",
       "      <th>male</th>\n",
       "      <th>immig</th>\n",
       "      <th>ageg5lfs_25_29</th>\n",
       "      <th>ageg5lfs_30_34</th>\n",
       "      <th>ageg5lfs_35_39</th>\n",
       "      <th>ageg5lfs_40_44</th>\n",
       "      <th>ageg5lfs_45_49</th>\n",
       "      <th>ageg5lfs_50_54</th>\n",
       "      <th>ageg5lfs_55_59</th>\n",
       "      <th>ageg5lfs_60_65</th>\n",
       "      <th>edcat7_UpSec</th>\n",
       "      <th>edcat7_PostSec</th>\n",
       "      <th>edcat7_TertProf</th>\n",
       "      <th>edcat7_TertBA</th>\n",
       "      <th>edcat7_TertMA</th>\n",
       "      <th>geo_fin</th>\n",
       "    </tr>\n",
       "  </thead>\n",
       "  <tbody>\n",
       "    <tr>\n",
       "      <th>57418</th>\n",
       "      <td>level_necessary</td>\n",
       "      <td>0</td>\n",
       "      <td>0</td>\n",
       "      <td>0</td>\n",
       "      <td>1</td>\n",
       "      <td>0</td>\n",
       "      <td>0</td>\n",
       "      <td>0</td>\n",
       "      <td>0</td>\n",
       "      <td>0</td>\n",
       "      <td>0</td>\n",
       "      <td>0</td>\n",
       "      <td>0</td>\n",
       "      <td>0</td>\n",
       "      <td>0</td>\n",
       "      <td>1</td>\n",
       "      <td>0</td>\n",
       "    </tr>\n",
       "    <tr>\n",
       "      <th>57422</th>\n",
       "      <td>level_necessary</td>\n",
       "      <td>0</td>\n",
       "      <td>0</td>\n",
       "      <td>1</td>\n",
       "      <td>0</td>\n",
       "      <td>0</td>\n",
       "      <td>0</td>\n",
       "      <td>0</td>\n",
       "      <td>0</td>\n",
       "      <td>0</td>\n",
       "      <td>0</td>\n",
       "      <td>0</td>\n",
       "      <td>0</td>\n",
       "      <td>0</td>\n",
       "      <td>0</td>\n",
       "      <td>1</td>\n",
       "      <td>0</td>\n",
       "    </tr>\n",
       "    <tr>\n",
       "      <th>57423</th>\n",
       "      <td>lower_sufficient</td>\n",
       "      <td>1</td>\n",
       "      <td>0</td>\n",
       "      <td>0</td>\n",
       "      <td>0</td>\n",
       "      <td>0</td>\n",
       "      <td>1</td>\n",
       "      <td>0</td>\n",
       "      <td>0</td>\n",
       "      <td>0</td>\n",
       "      <td>0</td>\n",
       "      <td>1</td>\n",
       "      <td>0</td>\n",
       "      <td>0</td>\n",
       "      <td>0</td>\n",
       "      <td>0</td>\n",
       "      <td>0</td>\n",
       "    </tr>\n",
       "  </tbody>\n",
       "</table>\n",
       "</div>"
      ],
      "text/plain": [
       "                workreq male immig  ageg5lfs_25_29  ageg5lfs_30_34  \\\n",
       "57418   level_necessary    0     0               0               1   \n",
       "57422   level_necessary    0     0               1               0   \n",
       "57423  lower_sufficient    1     0               0               0   \n",
       "\n",
       "       ageg5lfs_35_39  ageg5lfs_40_44  ageg5lfs_45_49  ageg5lfs_50_54  \\\n",
       "57418               0               0               0               0   \n",
       "57422               0               0               0               0   \n",
       "57423               0               1               0               0   \n",
       "\n",
       "       ageg5lfs_55_59  ageg5lfs_60_65  edcat7_UpSec  edcat7_PostSec  \\\n",
       "57418               0               0             0               0   \n",
       "57422               0               0             0               0   \n",
       "57423               0               0             1               0   \n",
       "\n",
       "       edcat7_TertProf  edcat7_TertBA  edcat7_TertMA  geo_fin  \n",
       "57418                0              0              1        0  \n",
       "57422                0              0              1        0  \n",
       "57423                0              0              0        0  "
      ]
     },
     "execution_count": 21,
     "metadata": {},
     "output_type": "execute_result"
    }
   ],
   "source": [
    "path = \"/Users/geofrey.wanyama/Downloads/Microeconometrics1/Data sets/piaac9Feb2017Stata12.dta\"\n",
    "edcat7 = {\n",
    "    'Tertiaryâ\\x80\\x93master/research degree': 'TertMA',\n",
    "     'Upper secondary': 'UpSec',\n",
    "     'Post-secondary, non-tertiary': 'PostSec',\n",
    "     'Lower secondary or less': 'LowSec',\n",
    "     'Tertiary-professional degree': 'TertProf',\n",
    "     'Tertiary â\\x80\\x93 bachelor degree': 'TertBA'   \n",
    "}\n",
    "workreq = {\n",
    "    'This level necessary': 'level_necessary',\n",
    "    'Lower level sufficient': 'lower_sufficient',\n",
    "    'Higher level needed': 'Higher_needed' \n",
    "}\n",
    "\n",
    "df = (\n",
    "    pd.read_stata(path)\n",
    "    .query(\"ageg5lfs != '16-19' and country in ['fin', 'est']\")\n",
    "    .filter([\"chatatwork\", \"ageg5lfs\", \"male\", \"edcat7\", \"immig\", \"indep\", \"workreq\", \"geo\"])\n",
    "    .dropna()\n",
    "    .assign(\n",
    "        ageg5lfs = lambda X: pd.Categorical(X[\"ageg5lfs\"]).remove_unused_categories(),\n",
    "        geo = lambda X: pd.Categorical(X[\"geo\"]).remove_unused_categories(),\n",
    "        edcat7 = lambda X: X[\"edcat7\"].map(edcat7),\n",
    "        workreq = lambda X: X[\"workreq\"].map(workreq),\n",
    "        male = lambda X: X[\"male\"].astype(int).astype(\"category\"),\n",
    "        immig = lambda X: X[\"immig\"].astype(int).astype(\"category\")\n",
    "    )\n",
    "    .assign(ageg5lfs = lambda X: X[\"ageg5lfs\"].apply(lambda x: x.replace(\"-\", \"_\")))\n",
    ")\n",
    "\n",
    "data = pd.concat([df[[\"workreq\"]+[\"male\", \"immig\"]],\n",
    "                  pd.get_dummies(df[[\"ageg5lfs\", \"edcat7\", \"geo\"]], drop_first=True)],\n",
    "                 axis=1\n",
    ")\n",
    "\n",
    "data.head(3)"
   ]
  },
  {
   "cell_type": "markdown",
   "id": "b28fbb46",
   "metadata": {},
   "source": [
    "## Multinominal logit model"
   ]
  },
  {
   "cell_type": "code",
   "execution_count": 23,
   "id": "0578d5ed",
   "metadata": {},
   "outputs": [],
   "source": [
    "y = data.workreq\n",
    "X = data.drop(\"workreq\", axis=1)\n",
    "X = sm.add_constant(X)"
   ]
  },
  {
   "cell_type": "code",
   "execution_count": 24,
   "id": "2c392bd7",
   "metadata": {
    "scrolled": false
   },
   "outputs": [
    {
     "name": "stdout",
     "output_type": "stream",
     "text": [
      "Optimization terminated successfully.\n",
      "         Current function value: 0.782541\n",
      "         Iterations 6\n",
      "                          MNLogit Regression Results                          \n",
      "==============================================================================\n",
      "Dep. Variable:                workreq   No. Observations:                 5204\n",
      "Model:                        MNLogit   Df Residuals:                     5170\n",
      "Method:                           MLE   Df Model:                           32\n",
      "Date:                Wed, 06 Sep 2023   Pseudo R-squ.:                 0.02583\n",
      "Time:                        22:38:01   Log-Likelihood:                -4072.3\n",
      "converged:                       True   LL-Null:                       -4180.3\n",
      "Covariance Type:            nonrobust   LLR p-value:                 3.517e-29\n",
      "=========================================================================================\n",
      "workreq=lower_sufficient       coef    std err          z      P>|z|      [0.025      0.975]\n",
      "--------------------------------------------------------------------------------------------\n",
      "const                       -1.1396      0.203     -5.616      0.000      -1.537      -0.742\n",
      "male                         0.2225      0.075      2.953      0.003       0.075       0.370\n",
      "immig                        0.0289      0.137      0.211      0.833      -0.239       0.297\n",
      "ageg5lfs_25_29              -0.3373      0.165     -2.040      0.041      -0.661      -0.013\n",
      "ageg5lfs_30_34              -0.3177      0.160     -1.983      0.047      -0.632      -0.004\n",
      "ageg5lfs_35_39              -0.1863      0.160     -1.167      0.243      -0.499       0.127\n",
      "ageg5lfs_40_44              -0.2814      0.165     -1.710      0.087      -0.604       0.041\n",
      "ageg5lfs_45_49              -0.2231      0.162     -1.375      0.169      -0.541       0.095\n",
      "ageg5lfs_50_54              -0.3483      0.170     -2.053      0.040      -0.681      -0.016\n",
      "ageg5lfs_55_59              -0.4024      0.173     -2.330      0.020      -0.741      -0.064\n",
      "ageg5lfs_60_65              -0.6162      0.199     -3.104      0.002      -1.005      -0.227\n",
      "edcat7_UpSec                -0.1680      0.177     -0.950      0.342      -0.515       0.178\n",
      "edcat7_PostSec              -0.4440      0.240     -1.850      0.064      -0.914       0.026\n",
      "edcat7_TertProf             -0.2450      0.185     -1.322      0.186      -0.608       0.118\n",
      "edcat7_TertBA               -0.3311      0.194     -1.705      0.088      -0.712       0.049\n",
      "edcat7_TertMA               -0.7274      0.187     -3.897      0.000      -1.093      -0.362\n",
      "geo_fin                      0.6006      0.081      7.410      0.000       0.442       0.760\n",
      "--------------------------------------------------------------------------------------------\n",
      "workreq=Higher_needed       coef    std err          z      P>|z|      [0.025      0.975]\n",
      "-----------------------------------------------------------------------------------------\n",
      "const                    -1.9318      0.266     -7.251      0.000      -2.454      -1.410\n",
      "male                      0.2957      0.092      3.203      0.001       0.115       0.477\n",
      "immig                     0.3035      0.137      2.222      0.026       0.036       0.571\n",
      "ageg5lfs_25_29            0.3039      0.224      1.358      0.174      -0.135       0.742\n",
      "ageg5lfs_30_34            0.3797      0.218      1.743      0.081      -0.047       0.807\n",
      "ageg5lfs_35_39            0.3490      0.221      1.579      0.114      -0.084       0.782\n",
      "ageg5lfs_40_44            0.4449      0.221      2.014      0.044       0.012       0.878\n",
      "ageg5lfs_45_49            0.5090      0.220      2.310      0.021       0.077       0.941\n",
      "ageg5lfs_50_54            0.2143      0.234      0.918      0.359      -0.243       0.672\n",
      "ageg5lfs_55_59            0.5394      0.226      2.389      0.017       0.097       0.982\n",
      "ageg5lfs_60_65            0.5239      0.242      2.162      0.031       0.049       0.999\n",
      "edcat7_UpSec             -0.0372      0.217     -0.172      0.864      -0.462       0.387\n",
      "edcat7_PostSec           -0.0731      0.269     -0.272      0.786      -0.600       0.454\n",
      "edcat7_TertProf          -0.4368      0.231     -1.895      0.058      -0.889       0.015\n",
      "edcat7_TertBA            -0.4058      0.248     -1.637      0.102      -0.891       0.080\n",
      "edcat7_TertMA            -0.8016      0.228     -3.512      0.000      -1.249      -0.354\n",
      "geo_fin                  -0.2523      0.099     -2.551      0.011      -0.446      -0.058\n",
      "=========================================================================================\n"
     ]
    }
   ],
   "source": [
    "model = sm.MNLogit(y, X)\n",
    "result = model.fit()\n",
    "print(result.summary())"
   ]
  },
  {
   "cell_type": "code",
   "execution_count": null,
   "id": "5a00619c",
   "metadata": {},
   "outputs": [],
   "source": []
  }
 ],
 "metadata": {
  "kernelspec": {
   "display_name": "Python 3 (ipykernel)",
   "language": "python",
   "name": "python3"
  },
  "language_info": {
   "codemirror_mode": {
    "name": "ipython",
    "version": 3
   },
   "file_extension": ".py",
   "mimetype": "text/x-python",
   "name": "python",
   "nbconvert_exporter": "python",
   "pygments_lexer": "ipython3",
   "version": "3.9.16"
  },
  "toc": {
   "base_numbering": 1,
   "nav_menu": {},
   "number_sections": false,
   "sideBar": true,
   "skip_h1_title": false,
   "title_cell": "Table of Contents",
   "title_sidebar": "Contents",
   "toc_cell": false,
   "toc_position": {
    "height": "calc(100% - 180px)",
    "left": "10px",
    "top": "150px",
    "width": "190px"
   },
   "toc_section_display": true,
   "toc_window_display": true
  }
 },
 "nbformat": 4,
 "nbformat_minor": 5
}
