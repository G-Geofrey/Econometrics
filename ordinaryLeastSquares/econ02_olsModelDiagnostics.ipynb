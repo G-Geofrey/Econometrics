{
 "cells": [
  {
   "cell_type": "code",
   "execution_count": 36,
   "id": "0f89690d",
   "metadata": {},
   "outputs": [
    {
     "data": {
      "text/html": [
       "<style>.container {width:85%;}</style>"
      ],
      "text/plain": [
       "<IPython.core.display.HTML object>"
      ]
     },
     "metadata": {},
     "output_type": "display_data"
    }
   ],
   "source": [
    "import pandas as pd\n",
    "import numpy as np\n",
    "import matplotlib.pyplot as plt\n",
    "import seaborn as sns\n",
    "import plotly.express as px\n",
    "import statsmodels.formula.api as smf\n",
    "import statsmodels.api as sm\n",
    "import statsmodels.stats.api as sms\n",
    "from statsmodels.stats.anova import anova_lm\n",
    "from stargazer.stargazer import Stargazer\n",
    "from scipy import stats\n",
    "from IPython.display import display, HTML\n",
    "display(HTML(\"<style>.container {width:85%;}</style>\"))"
   ]
  },
  {
   "cell_type": "markdown",
   "id": "ca17854d",
   "metadata": {},
   "source": [
    "## Data"
   ]
  },
  {
   "cell_type": "code",
   "execution_count": 37,
   "id": "863d8b20",
   "metadata": {},
   "outputs": [],
   "source": [
    "selct_columns = ['lwage', 'exper', 'expersq', 'educ',  'age', 'kidslt6', 'kidsge6']\n",
    "df = (\n",
    "    pd.read_stata('http://fmwww.bc.edu/ec-p/data/wooldridge/mroz.dta')\n",
    "    .filter(selct_columns)\n",
    "    .dropna()\n",
    "    .assign(educgr = lambda X: pd.cut(X[\"educ\"], bins = [5,11,13, 18], labels=('Diploma','Degree','Masters'), ordered=True))\n",
    ")"
   ]
  },
  {
   "cell_type": "markdown",
   "id": "682876c7",
   "metadata": {},
   "source": [
    "## Testing if the explanatory variables are independently significant using the t-test"
   ]
  },
  {
   "cell_type": "markdown",
   "id": "1bfeb229",
   "metadata": {},
   "source": [
    "| Hypothesis                           | Testing criteria                             | Interpretation                                  |\n",
    "|--------------------------------------|----------------------------------------------|--------------------------------------------------|\n",
    "| Population parameter = 0 (H0: beta=0) | p-value                                      | Reject H0 if the p-value is less than the level of significance  |\n",
    "| Population parameter = 0 (H0: beta=0) | Confidence intervals for the coefficients  | Reject H0 if the confidence interval contains 0   |\n"
   ]
  },
  {
   "cell_type": "code",
   "execution_count": 38,
   "id": "adff337b",
   "metadata": {},
   "outputs": [
    {
     "name": "stdout",
     "output_type": "stream",
     "text": [
      "                            OLS Regression Results                            \n",
      "==============================================================================\n",
      "Dep. Variable:                  lwage   R-squared:                       0.030\n",
      "Model:                            OLS   Adj. R-squared:                  0.025\n",
      "Method:                 Least Squares   F-statistic:                     6.487\n",
      "Date:                Sat, 29 Jul 2023   Prob (F-statistic):            0.00168\n",
      "Time:                        19:43:13   Log-Likelihood:                -461.67\n",
      "No. Observations:                 428   AIC:                             929.3\n",
      "Df Residuals:                     425   BIC:                             941.5\n",
      "Df Model:                           2                                         \n",
      "Covariance Type:            nonrobust                                         \n",
      "==============================================================================\n",
      "                 coef    std err          t      P>|t|      [0.025      0.975]\n",
      "------------------------------------------------------------------------------\n",
      "Intercept      1.1105      0.195      5.691      0.000       0.727       1.494\n",
      "exper          0.0167      0.005      3.414      0.001       0.007       0.026\n",
      "age           -0.0033      0.005     -0.645      0.519      -0.013       0.007\n",
      "==============================================================================\n",
      "Omnibus:                       50.762   Durbin-Watson:                   1.958\n",
      "Prob(Omnibus):                  0.000   Jarque-Bera (JB):              144.008\n",
      "Skew:                          -0.553   Prob(JB):                     5.36e-32\n",
      "Kurtosis:                       5.618   Cond. No.                         254.\n",
      "==============================================================================\n",
      "\n",
      "Notes:\n",
      "[1] Standard Errors assume that the covariance matrix of the errors is correctly specified.\n"
     ]
    }
   ],
   "source": [
    "olsModel_01 = smf.ols('lwage ~ exper  + age ', data = df).fit()\n",
    "\n",
    "print(olsModel_01.summary())"
   ]
  },
  {
   "cell_type": "markdown",
   "id": "3c37455e",
   "metadata": {},
   "source": [
    "| Variable | Interpretation                                                                |\n",
    "|----------|-------------------------------------------------------------------------------|\n",
    "| exper    | Significant at 5% significance level                                          |\n",
    "| age      | Not significant at 5% significance level (confidence interval contains 0 too) |"
   ]
  },
  {
   "cell_type": "markdown",
   "id": "3128c8ef",
   "metadata": {},
   "source": [
    "### Wald test\n",
    "\n",
    "| Test               | Description                                                                                                      |\n",
    "|--------------------|------------------------------------------------------------------------------------------------------------------|\n",
    "| <b>Wald test</b>   | The Wald test is a statistical hypothesis test used to assess the significance of individual parameters (coefficients) in a statistical model. |\n",
    "| <b>Hypothesis</b>  | Null Hypothesis (H0): The coefficient for the variable of interest is equal to zero (no effect).               |\n",
    "|                    | Alternative Hypothesis (Ha): The coefficient for the variable of interest is not equal to zero (there is an effect). |\n",
    "| <b>Decision</b>    | Reject H0 if the p-value is less than the level of significance.                                                 |\n"
   ]
  },
  {
   "cell_type": "code",
   "execution_count": 57,
   "id": "30aa6431",
   "metadata": {},
   "outputs": [
    {
     "data": {
      "text/html": [
       "<div>\n",
       "<style scoped>\n",
       "    .dataframe tbody tr th:only-of-type {\n",
       "        vertical-align: middle;\n",
       "    }\n",
       "\n",
       "    .dataframe tbody tr th {\n",
       "        vertical-align: top;\n",
       "    }\n",
       "\n",
       "    .dataframe thead th {\n",
       "        text-align: right;\n",
       "    }\n",
       "</style>\n",
       "<table border=\"1\" class=\"dataframe\">\n",
       "  <thead>\n",
       "    <tr style=\"text-align: right;\">\n",
       "      <th></th>\n",
       "      <th>f-statistic</th>\n",
       "      <th>P-value</th>\n",
       "    </tr>\n",
       "  </thead>\n",
       "  <tbody>\n",
       "    <tr>\n",
       "      <th>0</th>\n",
       "      <td>0.416121</td>\n",
       "      <td>0.5192268108254405</td>\n",
       "    </tr>\n",
       "  </tbody>\n",
       "</table>\n",
       "</div>"
      ],
      "text/plain": [
       "  f-statistic             P-value\n",
       "0    0.416121  0.5192268108254405"
      ]
     },
     "execution_count": 57,
     "metadata": {},
     "output_type": "execute_result"
    }
   ],
   "source": [
    "testResults = olsModel_01.wald_test(\"(age=0)\")\n",
    "testResults.pvalue\n",
    "\n",
    "pd.DataFrame([testResults.fvalue[0][0], testResults.pvalue], index=[\"f-statistic\", \"P-value\"]).T"
   ]
  },
  {
   "cell_type": "code",
   "execution_count": 49,
   "id": "30aaa51e",
   "metadata": {},
   "outputs": [
    {
     "data": {
      "text/plain": [
       "6.487118098469767"
      ]
     },
     "execution_count": 49,
     "metadata": {},
     "output_type": "execute_result"
    }
   ],
   "source": [
    "testResults.fvalue[0][0]"
   ]
  },
  {
   "cell_type": "code",
   "execution_count": 50,
   "id": "f1834535",
   "metadata": {},
   "outputs": [
    {
     "data": {
      "text/plain": [
       "array([[6.4871181]])"
      ]
     },
     "execution_count": 50,
     "metadata": {},
     "output_type": "execute_result"
    }
   ],
   "source": [
    "testResults.statistic"
   ]
  },
  {
   "cell_type": "code",
   "execution_count": 53,
   "id": "e6b42332",
   "metadata": {},
   "outputs": [
    {
     "name": "stdout",
     "output_type": "stream",
     "text": [
      "                            OLS Regression Results                            \n",
      "==============================================================================\n",
      "Dep. Variable:                    mpg   R-squared:                       0.788\n",
      "Model:                            OLS   Adj. R-squared:                  0.757\n",
      "Method:                 Least Squares   F-statistic:                     25.09\n",
      "Date:                Sat, 29 Jul 2023   Prob (F-statistic):           9.35e-09\n",
      "Time:                        19:47:43   Log-Likelihood:                -77.558\n",
      "No. Observations:                  32   AIC:                             165.1\n",
      "Df Residuals:                      27   BIC:                             172.4\n",
      "Df Model:                           4                                         \n",
      "Covariance Type:            nonrobust                                         \n",
      "==============================================================================\n",
      "                 coef    std err          t      P>|t|      [0.025      0.975]\n",
      "------------------------------------------------------------------------------\n",
      "Intercept     34.0216      2.523     13.482      0.000      28.844      39.199\n",
      "disp          -0.0269      0.011     -2.379      0.025      -0.050      -0.004\n",
      "carb          -0.9269      0.579     -1.601      0.121      -2.115       0.261\n",
      "hp             0.0093      0.021      0.452      0.655      -0.033       0.052\n",
      "cyl           -1.0485      0.784     -1.338      0.192      -2.657       0.560\n",
      "==============================================================================\n",
      "Omnibus:                        1.062   Durbin-Watson:                   1.730\n",
      "Prob(Omnibus):                  0.588   Jarque-Bera (JB):                0.919\n",
      "Skew:                           0.391   Prob(JB):                        0.632\n",
      "Kurtosis:                       2.719   Cond. No.                     1.51e+03\n",
      "==============================================================================\n",
      "\n",
      "Notes:\n",
      "[1] Standard Errors assume that the covariance matrix of the errors is correctly specified.\n",
      "[2] The condition number is large, 1.51e+03. This might indicate that there are\n",
      "strong multicollinearity or other numerical problems.\n"
     ]
    }
   ],
   "source": [
    "import io\n",
    "mtcars_data=\"\"\"model,mpg,cyl,disp,hp,drat,wt,qsec,vs,am,gear,carb\n",
    "Mazda RX4,21,6,160,110,3.9,2.62,16.46,0,1,4,4\n",
    "Mazda RX4 Wag,21,6,160,110,3.9,2.875,17.02,0,1,4,4\n",
    "Datsun 710,22.8,4,108,93,3.85,2.32,18.61,1,1,4,1\n",
    "Hornet 4 Drive,21.4,6,258,110,3.08,3.215,19.44,1,0,3,1\n",
    "Hornet Sportabout,18.7,8,360,175,3.15,3.44,17.02,0,0,3,2\n",
    "Valiant,18.1,6,225,105,2.76,3.46,20.22,1,0,3,1\n",
    "Duster 360,14.3,8,360,245,3.21,3.57,15.84,0,0,3,4\n",
    "Merc 240D,24.4,4,146.7,62,3.69,3.19,20,1,0,4,2\n",
    "Merc 230,22.8,4,140.8,95,3.92,3.15,22.9,1,0,4,2\n",
    "Merc 280,19.2,6,167.6,123,3.92,3.44,18.3,1,0,4,4\n",
    "Merc 280C,17.8,6,167.6,123,3.92,3.44,18.9,1,0,4,4\n",
    "Merc 450SE,16.4,8,275.8,180,3.07,4.07,17.4,0,0,3,3\n",
    "Merc 450SL,17.3,8,275.8,180,3.07,3.73,17.6,0,0,3,3\n",
    "Merc 450SLC,15.2,8,275.8,180,3.07,3.78,18,0,0,3,3\n",
    "Cadillac Fleetwood,10.4,8,472,205,2.93,5.25,17.98,0,0,3,4\n",
    "Lincoln Continental,10.4,8,460,215,3,5.424,17.82,0,0,3,4\n",
    "Chrysler Imperial,14.7,8,440,230,3.23,5.345,17.42,0,0,3,4\n",
    "Fiat 128,32.4,4,78.7,66,4.08,2.2,19.47,1,1,4,1\n",
    "Honda Civic,30.4,4,75.7,52,4.93,1.615,18.52,1,1,4,2\n",
    "Toyota Corolla,33.9,4,71.1,65,4.22,1.835,19.9,1,1,4,1\n",
    "Toyota Corona,21.5,4,120.1,97,3.7,2.465,20.01,1,0,3,1\n",
    "Dodge Challenger,15.5,8,318,150,2.76,3.52,16.87,0,0,3,2\n",
    "AMC Javelin,15.2,8,304,150,3.15,3.435,17.3,0,0,3,2\n",
    "Camaro Z28,13.3,8,350,245,3.73,3.84,15.41,0,0,3,4\n",
    "Pontiac Firebird,19.2,8,400,175,3.08,3.845,17.05,0,0,3,2\n",
    "Fiat X1-9,27.3,4,79,66,4.08,1.935,18.9,1,1,4,1\n",
    "Porsche 914-2,26,4,120.3,91,4.43,2.14,16.7,0,1,5,2\n",
    "Lotus Europa,30.4,4,95.1,113,3.77,1.513,16.9,1,1,5,2\n",
    "Ford Pantera L,15.8,8,351,264,4.22,3.17,14.5,0,1,5,4\n",
    "Ferrari Dino,19.7,6,145,175,3.62,2.77,15.5,0,1,5,6\n",
    "Maserati Bora,15,8,301,335,3.54,3.57,14.6,0,1,5,8\n",
    "Volvo 142E,21.4,4,121,109,4.11,2.78,18.6,1,1,4,2\"\"\"\n",
    "\n",
    "#convert string to DataFrame\n",
    "df = pd.read_csv(io.StringIO(mtcars_data), sep=\",\")\n",
    "\n",
    "#fit multiple linear regression model\n",
    "results = smf.ols('mpg ~ disp + carb + hp + cyl', df).fit()\n",
    "\n",
    "#view regression model summary\n",
    "print(results.summary())"
   ]
  },
  {
   "cell_type": "code",
   "execution_count": 55,
   "id": "e4d643cf",
   "metadata": {},
   "outputs": [
    {
     "name": "stdout",
     "output_type": "stream",
     "text": [
      "<F test: F=array([[5.66005126]]), p=0.02468609623353298, df_denom=27, df_num=1>\n"
     ]
    }
   ],
   "source": [
    "print(results.wald_test('(disp = 0)'))"
   ]
  },
  {
   "cell_type": "markdown",
   "id": "bababef0",
   "metadata": {},
   "source": [
    "### Using ANOVA"
   ]
  },
  {
   "cell_type": "code",
   "execution_count": 4,
   "id": "d8f5671a",
   "metadata": {},
   "outputs": [
    {
     "data": {
      "text/html": [
       "<div>\n",
       "<style scoped>\n",
       "    .dataframe tbody tr th:only-of-type {\n",
       "        vertical-align: middle;\n",
       "    }\n",
       "\n",
       "    .dataframe tbody tr th {\n",
       "        vertical-align: top;\n",
       "    }\n",
       "\n",
       "    .dataframe thead th {\n",
       "        text-align: right;\n",
       "    }\n",
       "</style>\n",
       "<table border=\"1\" class=\"dataframe\">\n",
       "  <thead>\n",
       "    <tr style=\"text-align: right;\">\n",
       "      <th></th>\n",
       "      <th>df</th>\n",
       "      <th>sum_sq</th>\n",
       "      <th>mean_sq</th>\n",
       "      <th>F</th>\n",
       "      <th>PR(&gt;F)</th>\n",
       "    </tr>\n",
       "  </thead>\n",
       "  <tbody>\n",
       "    <tr>\n",
       "      <th>exper</th>\n",
       "      <td>1.0</td>\n",
       "      <td>6.403509</td>\n",
       "      <td>6.403509</td>\n",
       "      <td>12.558115</td>\n",
       "      <td>0.000438</td>\n",
       "    </tr>\n",
       "    <tr>\n",
       "      <th>age</th>\n",
       "      <td>1.0</td>\n",
       "      <td>0.212184</td>\n",
       "      <td>0.212184</td>\n",
       "      <td>0.416121</td>\n",
       "      <td>0.519227</td>\n",
       "    </tr>\n",
       "    <tr>\n",
       "      <th>Residual</th>\n",
       "      <td>425.0</td>\n",
       "      <td>216.711758</td>\n",
       "      <td>0.509910</td>\n",
       "      <td>NaN</td>\n",
       "      <td>NaN</td>\n",
       "    </tr>\n",
       "  </tbody>\n",
       "</table>\n",
       "</div>"
      ],
      "text/plain": [
       "             df      sum_sq   mean_sq          F    PR(>F)\n",
       "exper       1.0    6.403509  6.403509  12.558115  0.000438\n",
       "age         1.0    0.212184  0.212184   0.416121  0.519227\n",
       "Residual  425.0  216.711758  0.509910        NaN       NaN"
      ]
     },
     "execution_count": 4,
     "metadata": {},
     "output_type": "execute_result"
    }
   ],
   "source": [
    "anova_table = sm.stats.anova_lm(olsModel_01)\n",
    "anova_table"
   ]
  },
  {
   "cell_type": "markdown",
   "id": "124f4700",
   "metadata": {},
   "source": [
    "## Testing if the explanatory variables are jointly significant using the F-test"
   ]
  },
  {
   "cell_type": "code",
   "execution_count": 5,
   "id": "a57ed5a7",
   "metadata": {},
   "outputs": [
    {
     "name": "stdout",
     "output_type": "stream",
     "text": [
      "                            OLS Regression Results                            \n",
      "==============================================================================\n",
      "Dep. Variable:                  lwage   R-squared:                       0.158\n",
      "Model:                            OLS   Adj. R-squared:                  0.146\n",
      "Method:                 Least Squares   F-statistic:                     13.19\n",
      "Date:                Sat, 29 Jul 2023   Prob (F-statistic):           1.06e-13\n",
      "Time:                        11:09:48   Log-Likelihood:                -431.24\n",
      "No. Observations:                 428   AIC:                             876.5\n",
      "Df Residuals:                     421   BIC:                             904.9\n",
      "Df Model:                           6                                         \n",
      "Covariance Type:            nonrobust                                         \n",
      "==============================================================================\n",
      "                 coef    std err          t      P>|t|      [0.025      0.975]\n",
      "------------------------------------------------------------------------------\n",
      "Intercept     -0.4209      0.317     -1.328      0.185      -1.044       0.202\n",
      "exper          0.0398      0.013      2.973      0.003       0.013       0.066\n",
      "expersq       -0.0008      0.000     -1.942      0.053      -0.002    9.37e-06\n",
      "educ           0.1078      0.014      7.487      0.000       0.080       0.136\n",
      "age           -0.0015      0.005     -0.277      0.782      -0.012       0.009\n",
      "kidslt6       -0.0607      0.089     -0.684      0.494      -0.235       0.114\n",
      "kidsge6       -0.0146      0.028     -0.523      0.601      -0.069       0.040\n",
      "==============================================================================\n",
      "Omnibus:                       76.463   Durbin-Watson:                   1.963\n",
      "Prob(Omnibus):                  0.000   Jarque-Bera (JB):              301.786\n",
      "Skew:                          -0.732   Prob(JB):                     2.94e-66\n",
      "Kurtosis:                       6.844   Cond. No.                     3.54e+03\n",
      "==============================================================================\n",
      "\n",
      "Notes:\n",
      "[1] Standard Errors assume that the covariance matrix of the errors is correctly specified.\n",
      "[2] The condition number is large, 3.54e+03. This might indicate that there are\n",
      "strong multicollinearity or other numerical problems.\n"
     ]
    }
   ],
   "source": [
    "olsModel_02 = smf.ols(formula = 'lwage ~ exper + expersq + educ + age + kidslt6 + kidsge6', data=df).fit()\n",
    "print(olsModel_02.summary())"
   ]
  },
  {
   "cell_type": "markdown",
   "id": "921738d6",
   "metadata": {},
   "source": [
    "| Prob (F-statistic) | Interpretation                                        |\n",
    "|--------------------|------------------------------------------------------|\n",
    "|                    | Reject H0 if Prob (F-statistic) isless than significance level and conclude that the variables are jointly significant at the significance level                 |\n"
   ]
  },
  {
   "cell_type": "markdown",
   "id": "5110016a",
   "metadata": {},
   "source": [
    "### Using ANOVA\n",
    "We fit two models; one restricted (with only intercept) and another with the variables and define the hypothesis as below\n",
    "<blockquote>\n",
    "    <p>H0: Restricted model is fine</p>\n",
    "    <p>H1: We reject restricted model</p>\n",
    "</blockquote>\n",
    "Reject H0 if the p-value is less that the significance level"
   ]
  },
  {
   "cell_type": "code",
   "execution_count": 69,
   "id": "595ca1b0",
   "metadata": {},
   "outputs": [
    {
     "data": {
      "text/html": [
       "<div>\n",
       "<style scoped>\n",
       "    .dataframe tbody tr th:only-of-type {\n",
       "        vertical-align: middle;\n",
       "    }\n",
       "\n",
       "    .dataframe tbody tr th {\n",
       "        vertical-align: top;\n",
       "    }\n",
       "\n",
       "    .dataframe thead th {\n",
       "        text-align: right;\n",
       "    }\n",
       "</style>\n",
       "<table border=\"1\" class=\"dataframe\">\n",
       "  <thead>\n",
       "    <tr style=\"text-align: right;\">\n",
       "      <th></th>\n",
       "      <th>df_resid</th>\n",
       "      <th>ssr</th>\n",
       "      <th>df_diff</th>\n",
       "      <th>ss_diff</th>\n",
       "      <th>F</th>\n",
       "      <th>Pr(&gt;F)</th>\n",
       "    </tr>\n",
       "  </thead>\n",
       "  <tbody>\n",
       "    <tr>\n",
       "      <th>0</th>\n",
       "      <td>427.0</td>\n",
       "      <td>223.327451</td>\n",
       "      <td>0.0</td>\n",
       "      <td>NaN</td>\n",
       "      <td>NaN</td>\n",
       "      <td>NaN</td>\n",
       "    </tr>\n",
       "    <tr>\n",
       "      <th>1</th>\n",
       "      <td>421.0</td>\n",
       "      <td>187.987636</td>\n",
       "      <td>6.0</td>\n",
       "      <td>35.339815</td>\n",
       "      <td>13.190639</td>\n",
       "      <td>1.056864e-13</td>\n",
       "    </tr>\n",
       "  </tbody>\n",
       "</table>\n",
       "</div>"
      ],
      "text/plain": [
       "   df_resid         ssr  df_diff    ss_diff          F        Pr(>F)\n",
       "0     427.0  223.327451      0.0        NaN        NaN           NaN\n",
       "1     421.0  187.987636      6.0  35.339815  13.190639  1.056864e-13"
      ]
     },
     "execution_count": 69,
     "metadata": {},
     "output_type": "execute_result"
    }
   ],
   "source": [
    "model_r = smf.ols(formula = 'lwage ~ 1', data=df).fit()\n",
    "model_ur = smf.ols(formula = 'lwage ~ exper + expersq+ educ + age + kidslt6 + kidsge6', data=df).fit()\n",
    "anova_lm(model_r, model_ur)"
   ]
  }
 ],
 "metadata": {
  "kernelspec": {
   "display_name": "Python 3 (ipykernel)",
   "language": "python",
   "name": "python3"
  },
  "language_info": {
   "codemirror_mode": {
    "name": "ipython",
    "version": 3
   },
   "file_extension": ".py",
   "mimetype": "text/x-python",
   "name": "python",
   "nbconvert_exporter": "python",
   "pygments_lexer": "ipython3",
   "version": "3.9.16"
  },
  "toc": {
   "base_numbering": 1,
   "nav_menu": {},
   "number_sections": false,
   "sideBar": true,
   "skip_h1_title": false,
   "title_cell": "Table of Contents",
   "title_sidebar": "Contents",
   "toc_cell": false,
   "toc_position": {
    "height": "calc(100% - 180px)",
    "left": "10px",
    "top": "150px",
    "width": "217px"
   },
   "toc_section_display": true,
   "toc_window_display": true
  }
 },
 "nbformat": 4,
 "nbformat_minor": 5
}
