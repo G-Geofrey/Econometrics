{
 "cells": [
  {
   "cell_type": "code",
   "execution_count": 2,
   "id": "92091a98",
   "metadata": {},
   "outputs": [
    {
     "data": {
      "text/html": [
       "<style>.container {width:85%;}</style>"
      ],
      "text/plain": [
       "<IPython.core.display.HTML object>"
      ]
     },
     "metadata": {},
     "output_type": "display_data"
    }
   ],
   "source": [
    "import pandas as pd\n",
    "import numpy as np\n",
    "\n",
    "import plotly.express as px\n",
    "import statsmodels.formula.api as smf\n",
    "from stargazer.stargazer import Stargazer\n",
    "\n",
    "from IPython.display import display, HTML\n",
    "display(HTML(\"<style>.container {width:85%;}</style>\"))"
   ]
  },
  {
   "cell_type": "markdown",
   "id": "67ff93cf",
   "metadata": {},
   "source": [
    "## OLS assumptions"
   ]
  },
  {
   "cell_type": "markdown",
   "id": "f99de61b",
   "metadata": {},
   "source": [
    "| No | OLS Model Assumption                                                                                                                                                              | Implication of Violation                                                                                                       | Graphical Test                 | Test                   |\n",
    "|----|-----------------------------------------------------------------------------------------------------------------------------------------------------------------------------------|------------------------------------------------------------------------------------------------------------------------------|-------------------------------|------------------------|\n",
    "| 1  | Linear in parameters: There should be a linear relationship between the dependent variable and each of the independent variable                                               | \"Misleading coefficients<br>change the functional form of the regression, which can be done by taking non-linear transformations of independent variables \"     | Scatter plot of dependent vs. independent variables | Non-linearity tests (e.g., polynomial regression, GAM) |\n",
    "| 2  | The error term has a population mean of zero                                                                                                                                     | \"Suppose the average error is +7. This non-zero average error indicates that our model systematically underpredicts the observed values.<br>You don’t need to worry about this assumption when you include the constant in your regression model because it forces the mean of the residuals to equal zero.\" |                               |                        |\n",
    "| 3  | All independent variables are uncorrelated with the error term:<br>If an independent variable is correlated with the error term, we can use the independent variable to predict the error term, which violates the notion that the error term represents unpredictable random error<br>This assumption is also referred to as exogeneity. When this type of correlation exists, there is endogeneity.<br>Violations of this assumption can occur because<br>√ there is simultaneity between the independent and dependent variables, <br>√ omitted variable bias, or <br>√ measurement error in the independent variables.\" | \"Violating this assumption biases the coefficient estimate<br>when an independent variable correlates with the error term, OLS incorrectly attributes some of the variance that the error term actually explains to the independent variable instead\" | Residual plot<br>Residuals over time                   | Durbin-Watson test, Ljung-Box test                |\n",
    "| 4  | Independence of error terms (no autocorrelation): The error terms should not be correlated with each other                                                                    | Unreliable coefficient estimates, invalid inferences                                                                           | Autocorrelation plot           | Durbin-Watson test, Ljung-Box test                |\n",
    "| 5  | Homoscedasticity: The variance of the residuals should be constant across all levels of the independent variables<br>Note: When assumption 4 (no autocorrelation) and 5 (homoscedasticity) are both true, statisticians say that the error term is independent and identically distributed (IID) and refer to them as spherical errors. | Incorrect standard errors which means incorrect confidence intervals,<br>unreliable hypothesis tests<br>Typically, if the data set is large, then errors are more or less homoscedastic | Residual plot                  | Breusch-Pagan test, White test                   |\n",
    "| 6  | No multicollinearity (No independent variable is a perfect linear function of other explanatory variables)<br>Almost a sure indication of the presence of multi-collinearity is when you get opposite (unexpected) signs for your regression coefficients | reduces the precision of the estimates in OLS linear regression.                                                               | correlation matrix             | Variance Inflation Factor |\n",
    "| 7  | Normality of error terms: The error terms should follow a normal distribution with mean of 0<br>OLS does not require that the error term follows a normal distribution to produce unbiased estimates with the minimum variance. However, satisfying this assumption allows you to perform statistical hypothesis testing and generate reliable confidence intervals and prediction intervals.<br>If you need to obtain p-values for the coefficient estimates and the overall test of significance, check this assumption! | \"Incorrect standard errors;<br>OLS model nolonger BLUE;<br>Sometimes errors are not normal because the linearity assumption is not holding.\" | Histogram, Q-Q plot            | Shapiro-Wilk test, Anderson-Darling test         |\n"
   ]
  },
  {
   "cell_type": "markdown",
   "id": "abb1a084",
   "metadata": {},
   "source": [
    "## Data"
   ]
  },
  {
   "cell_type": "code",
   "execution_count": 3,
   "id": "77a10603",
   "metadata": {},
   "outputs": [],
   "source": [
    "selct_columns = ['lwage', 'exper', 'expersq', 'educ',  'age', 'kidslt6', 'kidsge6']\n",
    "df = (\n",
    "    pd.read_stata('http://fmwww.bc.edu/ec-p/data/wooldridge/mroz.dta')\n",
    "    .filter(selct_columns)\n",
    "    .dropna()\n",
    "    .assign(educgr = lambda X: pd.cut(X[\"educ\"], bins = [5,11,13, 18], labels=('Diploma','Degree','Masters'), ordered=True))\n",
    ")"
   ]
  },
  {
   "cell_type": "markdown",
   "id": "3800837f",
   "metadata": {},
   "source": [
    "## Base model"
   ]
  },
  {
   "cell_type": "code",
   "execution_count": 36,
   "id": "b572cb4b",
   "metadata": {},
   "outputs": [
    {
     "name": "stdout",
     "output_type": "stream",
     "text": [
      "                            OLS Regression Results                            \n",
      "==============================================================================\n",
      "Dep. Variable:                  lwage   R-squared:                       0.151\n",
      "Model:                            OLS   Adj. R-squared:                  0.141\n",
      "Method:                 Least Squares   F-statistic:                     14.98\n",
      "Date:                Fri, 28 Jul 2023   Prob (F-statistic):           1.52e-13\n",
      "Time:                        00:18:41   Log-Likelihood:                -433.15\n",
      "No. Observations:                 428   AIC:                             878.3\n",
      "Df Residuals:                     422   BIC:                             902.6\n",
      "Df Model:                           5                                         \n",
      "Covariance Type:            nonrobust                                         \n",
      "==============================================================================\n",
      "                 coef    std err          t      P>|t|      [0.025      0.975]\n",
      "------------------------------------------------------------------------------\n",
      "Intercept     -0.2190      0.300     -0.729      0.466      -0.809       0.371\n",
      "exper          0.0155      0.005      3.261      0.001       0.006       0.025\n",
      "educ           0.1096      0.014      7.600      0.000       0.081       0.138\n",
      "age           -0.0035      0.005     -0.666      0.505      -0.014       0.007\n",
      "kidslt6       -0.0755      0.089     -0.851      0.395      -0.250       0.099\n",
      "kidsge6       -0.0177      0.028     -0.632      0.528      -0.073       0.037\n",
      "==============================================================================\n",
      "Omnibus:                       79.021   Durbin-Watson:                   1.985\n",
      "Prob(Omnibus):                  0.000   Jarque-Bera (JB):              299.257\n",
      "Skew:                          -0.773   Prob(JB):                     1.04e-65\n",
      "Kurtosis:                       6.793   Cond. No.                         433.\n",
      "==============================================================================\n",
      "\n",
      "Notes:\n",
      "[1] Standard Errors assume that the covariance matrix of the errors is correctly specified.\n"
     ]
    }
   ],
   "source": [
    "olsModelBase = smf.ols('lwage ~ exper  + educ + age + kidslt6 + kidsge6', data = df).fit()\n",
    "\n",
    "print(olsModelBase.summary())"
   ]
  },
  {
   "cell_type": "markdown",
   "id": "1db62c0b",
   "metadata": {},
   "source": [
    "### Model interpretation\n",
    "\n",
    "| Metric                              | Interpretatiion                                           |\n",
    "|-------------------------------------|-------------------------------------------------------------|\n",
    "| R-squared                           | Model explains approximately 15% of the variation in wage |\n",
    "| Adj. R-squared                      | Modification of the R-squared that takes into account the number of independent variables in the model. It penalizes the addition of unnecessary variables that do not improve the model's fit significantly |\n",
    "| Prob (F-statistic)                  | The coefficients are collectively significant at the 5% level of significance |\n",
    "| AIC/BIC                             | Useful for comparing different models; lower values are preferred|\n",
    "| Coef P-values                       | Experience, education are statistically significant in predicting wage at the 5% level of significance |\n",
    "|                                     | Increase in the level of education by 1 unit while keeping other factors constant on average increases wage by 11% |\n",
    "|                                     | Increase in experience by 1 unit while keeping other factors constant on average increases wage by approximately 1.6% |\n",
    "| Prob(Omnibus)                       | Residuals not normally distributed                         |\n",
    "| Durbin-Watson                       | No auto-correlation                                          |\n",
    "| Cond. No                            | No multicollinearity between independent variables         |\n"
   ]
  },
  {
   "cell_type": "markdown",
   "id": "da4419a1",
   "metadata": {},
   "source": [
    "<ol>\n",
    "    <li style=\"margin-left: 400px;\"> $ R^{2} = \\frac{Explained \\quad Variation}{Total \\quad Variation} = \\frac{SSR}{SST}$ </li><br>\n",
    "    <li style=\"margin-left: 400px;\"> \n",
    "        $ Adjusted  R^{2} = 1 - (1 -  R^{2})\\frac{n-1}{n-k-1}$ \n",
    "        <P style=\"margin-left: 30px;\">\n",
    "            <i>where;\n",
    "            <ul style=\"margin-left: 30px;\">\n",
    "                <li><i>n is the number of observations (sample size).</li>\n",
    "                <li><i>k is the number of independent variables in the model.</li>\n",
    "            </ul>\n",
    "        </p> \n",
    "    </li>\n",
    "</ol>\n",
    "\n",
    "\n"
   ]
  },
  {
   "cell_type": "markdown",
   "id": "030d83f8",
   "metadata": {},
   "source": [
    "### Intepreting categorical factors in the model\n",
    "- The categories are intepreted with respect to the base category which is excluded from the model"
   ]
  },
  {
   "cell_type": "code",
   "execution_count": 37,
   "id": "a04d8ea4",
   "metadata": {},
   "outputs": [
    {
     "name": "stdout",
     "output_type": "stream",
     "text": [
      "                            OLS Regression Results                            \n",
      "==============================================================================\n",
      "Dep. Variable:                  lwage   R-squared:                       0.117\n",
      "Model:                            OLS   Adj. R-squared:                  0.104\n",
      "Method:                 Least Squares   F-statistic:                     9.262\n",
      "Date:                Fri, 28 Jul 2023   Prob (F-statistic):           1.53e-09\n",
      "Time:                        00:18:44   Log-Likelihood:                -440.76\n",
      "No. Observations:                 427   AIC:                             895.5\n",
      "Df Residuals:                     420   BIC:                             923.9\n",
      "Df Model:                           6                                         \n",
      "Covariance Type:            nonrobust                                         \n",
      "=====================================================================================\n",
      "                        coef    std err          t      P>|t|      [0.025      0.975]\n",
      "-------------------------------------------------------------------------------------\n",
      "Intercept             0.9455      0.248      3.818      0.000       0.459       1.432\n",
      "educgr[T.Degree]      0.2474      0.093      2.666      0.008       0.065       0.430\n",
      "educgr[T.Masters]     0.6190      0.104      5.942      0.000       0.414       0.824\n",
      "exper                 0.0145      0.005      2.975      0.003       0.005       0.024\n",
      "age                  -0.0049      0.005     -0.913      0.362      -0.015       0.006\n",
      "kidslt6              -0.0733      0.091     -0.807      0.420      -0.252       0.105\n",
      "kidsge6              -0.0269      0.029     -0.945      0.345      -0.083       0.029\n",
      "==============================================================================\n",
      "Omnibus:                       75.413   Durbin-Watson:                   2.001\n",
      "Prob(Omnibus):                  0.000   Jarque-Bera (JB):              275.180\n",
      "Skew:                          -0.748   Prob(JB):                     1.76e-60\n",
      "Kurtosis:                       6.637   Cond. No.                         344.\n",
      "==============================================================================\n",
      "\n",
      "Notes:\n",
      "[1] Standard Errors assume that the covariance matrix of the errors is correctly specified.\n"
     ]
    }
   ],
   "source": [
    "olsModelCat = smf.ols('lwage ~ exper + educgr + age + kidslt6 + kidsge6', data = df).fit()\n",
    "\n",
    "print(olsModelCat.summary())"
   ]
  },
  {
   "cell_type": "markdown",
   "id": "807c44ef",
   "metadata": {},
   "source": [
    "| Interpretation                                                                 |\n",
    "|-------------------------------------------------------------------------------|\n",
    "| Degree holders earn on average 25% more wage than those with diplomas         |\n",
    "| Master holders earn on average 62% more wage than those with diplomas         |\n"
   ]
  },
  {
   "cell_type": "markdown",
   "id": "8f2e6a83",
   "metadata": {},
   "source": [
    "### Interpreting non linear terms of the independent variable\n",
    "- I add to the model experience squared (Polynomials of order 2) to the base model and investigate impact"
   ]
  },
  {
   "cell_type": "code",
   "execution_count": 4,
   "id": "5551fc3a",
   "metadata": {},
   "outputs": [
    {
     "name": "stdout",
     "output_type": "stream",
     "text": [
      "                            OLS Regression Results                            \n",
      "==============================================================================\n",
      "Dep. Variable:                  lwage   R-squared:                       0.158\n",
      "Model:                            OLS   Adj. R-squared:                  0.146\n",
      "Method:                 Least Squares   F-statistic:                     13.19\n",
      "Date:                Sat, 29 Jul 2023   Prob (F-statistic):           1.06e-13\n",
      "Time:                        17:44:20   Log-Likelihood:                -431.24\n",
      "No. Observations:                 428   AIC:                             876.5\n",
      "Df Residuals:                     421   BIC:                             904.9\n",
      "Df Model:                           6                                         \n",
      "Covariance Type:            nonrobust                                         \n",
      "=================================================================================\n",
      "                    coef    std err          t      P>|t|      [0.025      0.975]\n",
      "---------------------------------------------------------------------------------\n",
      "Intercept        -0.4209      0.317     -1.328      0.185      -1.044       0.202\n",
      "exper             0.0398      0.013      2.973      0.003       0.013       0.066\n",
      "I(exper ** 2)    -0.0008      0.000     -1.942      0.053      -0.002    9.37e-06\n",
      "educ              0.1078      0.014      7.487      0.000       0.080       0.136\n",
      "age              -0.0015      0.005     -0.277      0.782      -0.012       0.009\n",
      "kidslt6          -0.0607      0.089     -0.684      0.494      -0.235       0.114\n",
      "kidsge6          -0.0146      0.028     -0.523      0.601      -0.069       0.040\n",
      "==============================================================================\n",
      "Omnibus:                       76.463   Durbin-Watson:                   1.963\n",
      "Prob(Omnibus):                  0.000   Jarque-Bera (JB):              301.786\n",
      "Skew:                          -0.732   Prob(JB):                     2.94e-66\n",
      "Kurtosis:                       6.844   Cond. No.                     3.54e+03\n",
      "==============================================================================\n",
      "\n",
      "Notes:\n",
      "[1] Standard Errors assume that the covariance matrix of the errors is correctly specified.\n",
      "[2] The condition number is large, 3.54e+03. This might indicate that there are\n",
      "strong multicollinearity or other numerical problems.\n"
     ]
    }
   ],
   "source": [
    "olsModelNonLinear = smf.ols('lwage ~ exper + I(exper**2)  + educ + age + kidslt6 + kidsge6', data = df).fit()\n",
    "\n",
    "print(olsModelNonLinear.summary())"
   ]
  },
  {
   "cell_type": "markdown",
   "id": "f3caba2e",
   "metadata": {},
   "source": [
    "| Observation                                                                                       |\n",
    "|---------------------------------------------------------------------------------------------------|\n",
    "| With the presence of both experience and squared experience, the condition number is now very high and the model results warn that there might be multicollinearity. |\n",
    "\n",
    "I visualize the effects of experience on wage under the current model specification with other factors fixed constant. "
   ]
  },
  {
   "cell_type": "code",
   "execution_count": 5,
   "id": "2a5433d8",
   "metadata": {},
   "outputs": [
    {
     "data": {
      "image/png": "[encoded data removed]"
     },
     "metadata": {},
     "output_type": "display_data"
    }
   ],
   "source": [
    "df_exp = (\n",
    "    pd.DataFrame( {'X':np.arange(38)})\n",
    "    .assign(\n",
    "        Y = lambda X: X['X'].apply(lambda x: olsModelNonLinear.params['Intercept'] + \n",
    "                                   olsModelNonLinear.params['exper']*x + \n",
    "                                   olsModelNonLinear.params['I(exper ** 2)']*(x**2) + \n",
    "                                   olsModelNonLinear.params['educ']*12.6 + \n",
    "                                   olsModelNonLinear.params['age']*42 + \n",
    "                                   olsModelNonLinear.params['kidslt6']*0.1402 + \n",
    "                                   olsModelNonLinear.params['kidsge6']*42 \n",
    "                                  )\n",
    "    )\n",
    ")\n",
    "\n",
    "fig = px.line(df_exp, x=\"X\", y=\"Y\", markers=True, color_discrete_sequence=[\"deepskyblue\"])\n",
    "fig.update_layout(\n",
    "    width=800,\n",
    "    plot_bgcolor=\"white\",\n",
    "    font=dict(size=12, color=\"#5b68f6\"),\n",
    "    title=dict(text=\"Estimated impact of expereince on wage\", x=0.5, xanchor=\"center\", font=dict(size=16, color=\"#5b68f6\")),\n",
    "    yaxis=dict(showline=False, linecolor=\"#5b68f6\", linewidth=1, showgrid=True, gridcolor=\"lightgray\",title=\"log(wage)\"),\n",
    "    xaxis=dict(linecolor=\"#5b68f6\", linewidth=1, showgrid=False, ticks=\"outside\", title=\"experience\", tickfont=dict(size=8)),\n",
    "    legend=dict(orientation=\"h\", x=0.5, y=1.01)\n",
    ")\n",
    "fig.show(\"png\")"
   ]
  },
  {
   "cell_type": "markdown",
   "id": "34ac717b",
   "metadata": {},
   "source": [
    "## Reporting all models"
   ]
  },
  {
   "cell_type": "code",
   "execution_count": 40,
   "id": "668cb2ea",
   "metadata": {},
   "outputs": [
    {
     "data": {
      "text/html": [
       "<table style=\"text-align:center\"><tr><td colspan=\"4\" style=\"border-bottom: 1px solid black\"></td></tr><tr><td style=\"text-align:left\"></td><td colspan=\"3\"><em>Dependent variable:lwage</em></td></tr><tr><td style=\"text-align:left\"></td><tr><td></td><td colspan=\"1\">Base model</td><td colspan=\"1\">Model with categorical variables</td><td colspan=\"1\">Model with non-linear terms model</td></tr><tr><td colspan=\"4\" style=\"border-bottom: 1px solid black\"></td></tr><tr><td style=\"text-align:left\">I(exper ** 2)</td><td></td><td></td><td>-0.001<sup>*</sup></td></tr><tr><td style=\"text-align:left\"></td><td></td><td></td><td>(0.000)</td></tr><tr><td style=\"text-align:left\">Intercept</td><td>-0.219<sup></sup></td><td>0.946<sup>***</sup></td><td>-0.421<sup></sup></td></tr><tr><td style=\"text-align:left\"></td><td>(0.300)</td><td>(0.248)</td><td>(0.317)</td></tr><tr><td style=\"text-align:left\">age</td><td>-0.003<sup></sup></td><td>-0.005<sup></sup></td><td>-0.001<sup></sup></td></tr><tr><td style=\"text-align:left\"></td><td>(0.005)</td><td>(0.005)</td><td>(0.005)</td></tr><tr><td style=\"text-align:left\">educ</td><td>0.110<sup>***</sup></td><td></td><td>0.108<sup>***</sup></td></tr><tr><td style=\"text-align:left\"></td><td>(0.014)</td><td></td><td>(0.014)</td></tr><tr><td style=\"text-align:left\">educgr[T.Degree]</td><td></td><td>0.247<sup>***</sup></td><td></td></tr><tr><td style=\"text-align:left\"></td><td></td><td>(0.093)</td><td></td></tr><tr><td style=\"text-align:left\">educgr[T.Masters]</td><td></td><td>0.619<sup>***</sup></td><td></td></tr><tr><td style=\"text-align:left\"></td><td></td><td>(0.104)</td><td></td></tr><tr><td style=\"text-align:left\">exper</td><td>0.015<sup>***</sup></td><td>0.014<sup>***</sup></td><td>0.040<sup>***</sup></td></tr><tr><td style=\"text-align:left\"></td><td>(0.005)</td><td>(0.005)</td><td>(0.013)</td></tr><tr><td style=\"text-align:left\">kidsge6</td><td>-0.018<sup></sup></td><td>-0.027<sup></sup></td><td>-0.015<sup></sup></td></tr><tr><td style=\"text-align:left\"></td><td>(0.028)</td><td>(0.029)</td><td>(0.028)</td></tr><tr><td style=\"text-align:left\">kidslt6</td><td>-0.076<sup></sup></td><td>-0.073<sup></sup></td><td>-0.061<sup></sup></td></tr><tr><td style=\"text-align:left\"></td><td>(0.089)</td><td>(0.091)</td><td>(0.089)</td></tr><td colspan=\"4\" style=\"border-bottom: 1px solid black\"></td></tr><tr><td style=\"text-align: left\">Observations</td><td>428</td><td>427</td><td>428</td></tr><tr><td style=\"text-align: left\">R<sup>2</sup></td><td>0.151</td><td>0.117</td><td>0.158</td></tr><tr><td style=\"text-align: left\">Adjusted R<sup>2</sup></td><td>0.141</td><td>0.104</td><td>0.146</td></tr><tr><td style=\"text-align: left\">Residual Std. Error</td><td>0.670 (df=422)</td><td>0.685 (df=420)</td><td>0.668 (df=421)</td></tr><tr><td style=\"text-align: left\">F Statistic</td><td>14.976<sup>***</sup> (df=5; 422)</td><td>9.262<sup>***</sup> (df=6; 420)</td><td>13.191<sup>***</sup> (df=6; 421)</td></tr><tr><td colspan=\"4\" style=\"border-bottom: 1px solid black\"></td></tr><tr><td style=\"text-align: left\">Note:</td>\n",
       " <td colspan=\"3\" style=\"text-align: right\">\n",
       "  <sup>*</sup>p&lt;0.1;\n",
       "  <sup>**</sup>p&lt;0.05;\n",
       "  <sup>***</sup>p&lt;0.01\n",
       " </td></tr></table>"
      ],
      "text/plain": [
       "<stargazer.stargazer.Stargazer at 0x7fd269ab1c70>"
      ]
     },
     "execution_count": 40,
     "metadata": {},
     "output_type": "execute_result"
    }
   ],
   "source": [
    "results = Stargazer([olsModelBase, olsModelCat, olsModelNonLinear])\n",
    "\n",
    "# asign model names\n",
    "results.custom_columns(\n",
    "                       # model names\n",
    "                       ['Base model', 'Model with categorical variables', 'Model with non-linear terms model'],\n",
    "                       [1, 1, 1],\n",
    "                    )\n",
    "results.show_model_numbers(False)\n",
    "\n",
    "results"
   ]
  },
  {
   "cell_type": "code",
   "execution_count": null,
   "id": "d7fb3235",
   "metadata": {},
   "outputs": [],
   "source": []
  }
 ],
 "metadata": {
  "kernelspec": {
   "display_name": "Python 3 (ipykernel)",
   "language": "python",
   "name": "python3"
  },
  "language_info": {
   "codemirror_mode": {
    "name": "ipython",
    "version": 3
   },
   "file_extension": ".py",
   "mimetype": "text/x-python",
   "name": "python",
   "nbconvert_exporter": "python",
   "pygments_lexer": "ipython3",
   "version": "3.9.16"
  },
  "toc": {
   "base_numbering": 1,
   "nav_menu": {},
   "number_sections": false,
   "sideBar": true,
   "skip_h1_title": false,
   "title_cell": "Table of Contents",
   "title_sidebar": "Contents",
   "toc_cell": false,
   "toc_position": {
    "height": "calc(100% - 180px)",
    "left": "10px",
    "top": "150px",
    "width": "285px"
   },
   "toc_section_display": true,
   "toc_window_display": true
  }
 },
 "nbformat": 4,
 "nbformat_minor": 5
}
