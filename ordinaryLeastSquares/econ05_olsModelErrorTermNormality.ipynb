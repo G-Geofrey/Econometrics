{
 "cells": [
  {
   "cell_type": "code",
   "execution_count": 2,
   "id": "0f89690d",
   "metadata": {},
   "outputs": [
    {
     "data": {
      "text/html": [
       "<style>.container {width:85%;}</style>"
      ],
      "text/plain": [
       "<IPython.core.display.HTML object>"
      ]
     },
     "metadata": {},
     "output_type": "display_data"
    }
   ],
   "source": [
    "import pandas as pd\n",
    "\n",
    "import statsmodels.formula.api as smf\n",
    "import statsmodels.api as sm\n",
    "import statsmodels.stats.api as sms\n",
    "\n",
    "from scipy import stats\n",
    "\n",
    "from IPython.display import display, HTML\n",
    "display(HTML(\"<style>.container {width:85%;}</style>\"))"
   ]
  },
  {
   "cell_type": "markdown",
   "id": "02d84641",
   "metadata": {},
   "source": [
    "# Checking for normality of residuals"
   ]
  },
  {
   "cell_type": "markdown",
   "id": "5c873454",
   "metadata": {},
   "source": [
    "| OLS Model Assumption                                                                                                                                                              | Implication of Violation                                                                                                       | Graphical Test                 | Test                   |\n",
    "|-----------------------------------------------------------------------------------------------------------------------------------------------------------------------------------|------------------------------------------------------------------------------------------------------------------------------|-------------------------------|------------------------|\n",
    "| Normality of error terms: The error terms should follow a normal distribution with mean of 0<br>OLS does not require that the error term follows a normal distribution to produce unbiased estimates with the minimum variance. However, satisfying this assumption allows you to perform statistical hypothesis testing and generate reliable confidence intervals and prediction intervals.<br>If you need to obtain p-values for the coefficient estimates and the overall test of significance, check this assumption! | \"Incorrect standard errors;<br>OLS model nolonger BLUE;<br>Sometimes errors are not normal because the linearity assumption is not holding.\" | Histogram, Q-Q plot            | Shapiro-Wilk test, Anderson-Darling test         |\n"
   ]
  },
  {
   "cell_type": "markdown",
   "id": "ca17854d",
   "metadata": {},
   "source": [
    "## Data"
   ]
  },
  {
   "cell_type": "code",
   "execution_count": 3,
   "id": "863d8b20",
   "metadata": {},
   "outputs": [],
   "source": [
    "selct_columns = ['lwage', 'exper', 'expersq', 'educ',  'age', 'kidslt6', 'kidsge6']\n",
    "df = (\n",
    "    pd.read_stata('http://fmwww.bc.edu/ec-p/data/wooldridge/mroz.dta')\n",
    "    .filter(selct_columns)\n",
    "    .dropna()\n",
    "    .assign(educgr = lambda X: pd.cut(X[\"educ\"], bins = [5,11,13, 18], labels=('Diploma','Degree','Masters'), ordered=True))\n",
    ")"
   ]
  },
  {
   "cell_type": "markdown",
   "id": "682876c7",
   "metadata": {},
   "source": [
    "## Model"
   ]
  },
  {
   "cell_type": "code",
   "execution_count": 5,
   "id": "c7fde7e5",
   "metadata": {},
   "outputs": [
    {
     "name": "stdout",
     "output_type": "stream",
     "text": [
      "                            OLS Regression Results                            \n",
      "==============================================================================\n",
      "Dep. Variable:                  lwage   R-squared:                       0.158\n",
      "Model:                            OLS   Adj. R-squared:                  0.146\n",
      "Method:                 Least Squares   F-statistic:                     13.19\n",
      "Date:                Sat, 29 Jul 2023   Prob (F-statistic):           1.06e-13\n",
      "Time:                        11:09:48   Log-Likelihood:                -431.24\n",
      "No. Observations:                 428   AIC:                             876.5\n",
      "Df Residuals:                     421   BIC:                             904.9\n",
      "Df Model:                           6                                         \n",
      "Covariance Type:            nonrobust                                         \n",
      "==============================================================================\n",
      "                 coef    std err          t      P>|t|      [0.025      0.975]\n",
      "------------------------------------------------------------------------------\n",
      "Intercept     -0.4209      0.317     -1.328      0.185      -1.044       0.202\n",
      "exper          0.0398      0.013      2.973      0.003       0.013       0.066\n",
      "expersq       -0.0008      0.000     -1.942      0.053      -0.002    9.37e-06\n",
      "educ           0.1078      0.014      7.487      0.000       0.080       0.136\n",
      "age           -0.0015      0.005     -0.277      0.782      -0.012       0.009\n",
      "kidslt6       -0.0607      0.089     -0.684      0.494      -0.235       0.114\n",
      "kidsge6       -0.0146      0.028     -0.523      0.601      -0.069       0.040\n",
      "==============================================================================\n",
      "Omnibus:                       76.463   Durbin-Watson:                   1.963\n",
      "Prob(Omnibus):                  0.000   Jarque-Bera (JB):              301.786\n",
      "Skew:                          -0.732   Prob(JB):                     2.94e-66\n",
      "Kurtosis:                       6.844   Cond. No.                     3.54e+03\n",
      "==============================================================================\n",
      "\n",
      "Notes:\n",
      "[1] Standard Errors assume that the covariance matrix of the errors is correctly specified.\n",
      "[2] The condition number is large, 3.54e+03. This might indicate that there are\n",
      "strong multicollinearity or other numerical problems.\n"
     ]
    }
   ],
   "source": [
    "olsModel_02 = smf.ols(formula = 'lwage ~ exper + expersq + educ + age + kidslt6 + kidsge6', data=df).fit()\n",
    "print(olsModel_02.summary())"
   ]
  },
  {
   "cell_type": "markdown",
   "id": "59ca5e35",
   "metadata": {},
   "source": [
    "## Checking/Testing for normality of residuals\n",
    "### Checking graphically"
   ]
  },
  {
   "cell_type": "code",
   "execution_count": 6,
   "id": "00ffc961",
   "metadata": {},
   "outputs": [],
   "source": [
    "from pynometrics.pynometrics import mplot"
   ]
  },
  {
   "cell_type": "code",
   "execution_count": 8,
   "id": "7f49f58e",
   "metadata": {},
   "outputs": [
    {
     "data": {
      "image/png": "[encoded data removed]",
      "text/plain": [
       "<Figure size 1200x500 with 1 Axes>"
      ]
     },
     "execution_count": 8,
     "metadata": {},
     "output_type": "execute_result"
    }
   ],
   "source": [
    "olsModel_02 = smf.ols(formula = 'lwage ~ exper + expersq + educ + age + kidslt6 + kidsge6', data=df).fit()\n",
    "mplot_init = mplot(olsModel_02)\n",
    "mplot_init.plot(2)"
   ]
  },
  {
   "cell_type": "markdown",
   "id": "9cad4b52",
   "metadata": {},
   "source": [
    "### Statistical test"
   ]
  },
  {
   "cell_type": "markdown",
   "id": "6d5b0238",
   "metadata": {},
   "source": [
    "#### Shapiro-Wilk Test\t\n",
    "| Test                         | Description                                                                                               |\n",
    "|------------------------------|-----------------------------------------------------------------------------------------------------------|\n",
    "| <b>Shapiro-Wilk Test</b>     | It assesses whether a sample of data comes from a normal distribution                                     |\n",
    "|                              | The null hypothesis is that the data is normally distributed.                                             |"
   ]
  },
  {
   "cell_type": "code",
   "execution_count": 27,
   "id": "79903c4b",
   "metadata": {},
   "outputs": [
    {
     "data": {
      "text/html": [
       "<div>\n",
       "<style scoped>\n",
       "    .dataframe tbody tr th:only-of-type {\n",
       "        vertical-align: middle;\n",
       "    }\n",
       "\n",
       "    .dataframe tbody tr th {\n",
       "        vertical-align: top;\n",
       "    }\n",
       "\n",
       "    .dataframe thead th {\n",
       "        text-align: right;\n",
       "    }\n",
       "</style>\n",
       "<table border=\"1\" class=\"dataframe\">\n",
       "  <thead>\n",
       "    <tr style=\"text-align: right;\">\n",
       "      <th></th>\n",
       "      <th>statistic</th>\n",
       "      <th>p-value</th>\n",
       "    </tr>\n",
       "  </thead>\n",
       "  <tbody>\n",
       "    <tr>\n",
       "      <th>0</th>\n",
       "      <td>0.93269</td>\n",
       "      <td>5.674581e-13</td>\n",
       "    </tr>\n",
       "  </tbody>\n",
       "</table>\n",
       "</div>"
      ],
      "text/plain": [
       "   statistic       p-value\n",
       "0    0.93269  5.674581e-13"
      ]
     },
     "execution_count": 27,
     "metadata": {},
     "output_type": "execute_result"
    }
   ],
   "source": [
    "residuals = olsModel_02.resid\n",
    "\n",
    "testResults = stats.shapiro(residuals)\n",
    "pd.DataFrame(pd.Series({\"statistic\":testResults.statistic, \"p-value\":testResults.pvalue})).T"
   ]
  },
  {
   "cell_type": "markdown",
   "id": "93077c95",
   "metadata": {},
   "source": [
    "| p-value | Interpretation                                                                              |\n",
    "|---------|---------------------------------------------------------------------------------------------|\n",
    "|         | Reject H0 (data is normally distributed) if the p-value is less than the significance level |\n"
   ]
  },
  {
   "cell_type": "markdown",
   "id": "96c8f369",
   "metadata": {},
   "source": [
    "#### Anderson-Darling Test\n",
    "| Test                         | Description                                                                                               |\n",
    "|------------------------------|-----------------------------------------------------------------------------------------------------------|\n",
    "| <b>Anderson-Darling Test</b> | It's similar to the Shapiro-Wilk test but may be more sensitive, especially for larger sample sizes.      |\n"
   ]
  },
  {
   "cell_type": "code",
   "execution_count": 35,
   "id": "d12d0657",
   "metadata": {},
   "outputs": [
    {
     "data": {
      "text/html": [
       "<div>\n",
       "<style scoped>\n",
       "    .dataframe tbody tr th:only-of-type {\n",
       "        vertical-align: middle;\n",
       "    }\n",
       "\n",
       "    .dataframe tbody tr th {\n",
       "        vertical-align: top;\n",
       "    }\n",
       "\n",
       "    .dataframe thead th {\n",
       "        text-align: right;\n",
       "    }\n",
       "</style>\n",
       "<table border=\"1\" class=\"dataframe\">\n",
       "  <thead>\n",
       "    <tr style=\"text-align: right;\">\n",
       "      <th></th>\n",
       "      <th>test-statistic</th>\n",
       "      <th>critical-value</th>\n",
       "    </tr>\n",
       "  </thead>\n",
       "  <tbody>\n",
       "    <tr>\n",
       "      <th>0</th>\n",
       "      <td>6.329291</td>\n",
       "      <td>0.78</td>\n",
       "    </tr>\n",
       "  </tbody>\n",
       "</table>\n",
       "</div>"
      ],
      "text/plain": [
       "   test-statistic  critical-value\n",
       "0        6.329291            0.78"
      ]
     },
     "execution_count": 35,
     "metadata": {},
     "output_type": "execute_result"
    }
   ],
   "source": [
    "residuals = olsModel_02.resid\n",
    "\n",
    "testResults = stats.anderson(residuals, dist=\"norm\")\n",
    "pd.DataFrame(pd.Series({\"test-statistic\":testResults.statistic, \"critical-value\":testResults.critical_values[2]})).T"
   ]
  },
  {
   "cell_type": "markdown",
   "id": "1455a2e8",
   "metadata": {},
   "source": [
    "| Interpretation                                                                                     |\n",
    "|----------------------------------------------------------------------------------------------------|\n",
    "| Reject H0 (data is normally distributed) if the test statistics is greater than the critical value |"
   ]
  }
 ],
 "metadata": {
  "kernelspec": {
   "display_name": "Python 3 (ipykernel)",
   "language": "python",
   "name": "python3"
  },
  "language_info": {
   "codemirror_mode": {
    "name": "ipython",
    "version": 3
   },
   "file_extension": ".py",
   "mimetype": "text/x-python",
   "name": "python",
   "nbconvert_exporter": "python",
   "pygments_lexer": "ipython3",
   "version": "3.9.16"
  },
  "toc": {
   "base_numbering": 1,
   "nav_menu": {},
   "number_sections": false,
   "sideBar": true,
   "skip_h1_title": false,
   "title_cell": "Table of Contents",
   "title_sidebar": "Contents",
   "toc_cell": false,
   "toc_position": {
    "height": "calc(100% - 180px)",
    "left": "10px",
    "top": "150px",
    "width": "172px"
   },
   "toc_section_display": true,
   "toc_window_display": true
  }
 },
 "nbformat": 4,
 "nbformat_minor": 5
}
