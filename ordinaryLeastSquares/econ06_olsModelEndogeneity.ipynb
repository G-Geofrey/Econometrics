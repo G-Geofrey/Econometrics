{
 "cells": [
  {
   "cell_type": "code",
   "execution_count": 3,
   "id": "0f89690d",
   "metadata": {},
   "outputs": [
    {
     "data": {
      "text/html": [
       "<style>.container {width:85%;}</style>"
      ],
      "text/plain": [
       "<IPython.core.display.HTML object>"
      ]
     },
     "metadata": {},
     "output_type": "display_data"
    }
   ],
   "source": [
    "import pandas as pd\n",
    "\n",
    "import statsmodels.formula.api as smf\n",
    "import statsmodels.api as sm\n",
    "import statsmodels.stats.api as sms\n",
    "import linearmodels.iv.model as lm\n",
    "\n",
    "from scipy import stats\n",
    "\n",
    "from IPython.display import display, HTML\n",
    "display(HTML(\"<style>.container {width:85%;}</style>\"))"
   ]
  },
  {
   "cell_type": "markdown",
   "id": "02d84641",
   "metadata": {},
   "source": [
    "# Endogeneity\n",
    "<p style=\"font-size:16px\">\n",
    "    Endogeneity refers to a situation where there is a correlation between the independent variable (predictor) and the error term in a regression model, leading to biased and inconsistent estimates.\n",
    "</p>"
   ]
  },
  {
   "cell_type": "markdown",
   "id": "faeeee58",
   "metadata": {},
   "source": [
    "| OLS Model Assumption                                                                                                                                                              | Implication of Violation                                                                                                       | Graphical Test                 | Test                   |\n",
    "|-----------------------------------------------------------------------------------------------------------------------------------------------------------------------------------|------------------------------------------------------------------------------------------------------------------------------|-------------------------------|------------------------|\n",
    "| <b>All independent variables are uncorrelated with the error term:</b><br>If an independent variable is correlated with the error term, we can use the independent variable to predict the error term, which violates the notion that the error term represents unpredictable random error<br><b>This assumption is also referred to as exogeneity.</b> When this type of correlation exists, there is <b>endogeneity.</b><br> | Violating this assumption biases the coefficient estimate<br>when an independent variable correlates with the error term, OLS incorrectly attributes some of the variance that the error term actually explains to the independent variable instead | Residual plot<br>Residuals over time                   | Durbin-Watson test, Ljung-Box test                |\n"
   ]
  },
  {
   "cell_type": "markdown",
   "id": "97291ff6",
   "metadata": {},
   "source": [
    "## Causes of endogeneity\n",
    "| Cause of Endogeneity              | Description                                                                                                                                                                               |\n",
    "|-----------------------------------|-------------------------------------------------------------------------------------------------------------------------------------------------------------------------------------------|\n",
    "| Simultaneity                      | Both the dependent and independent variables are jointly determined at the same time, making it difficult to determine the direction of causality.                                      |\n",
    "| Omitted Variables                 | Relevant variables that are not included in the model can confound the relationship between the variables of interest. For example, not accounting for inflation when analyzing the impact of government spending on GDP.                                     |\n",
    "| Measurement Errors                | Errors in the observed values of the variables can introduce bias in the estimates. For instance, self-reported income data in a survey may be subject to reporting errors and affect the relationship between income and health outcomes.           |\n",
    "| Reverse Causality                 | The causal relationship between the dependent and independent variables runs in the opposite direction than what is assumed. For example, high crime rates might lead to more police presence, rather than the other way around.     |\n",
    "| Endogenous Grouping               | Endogeneity can arise when individuals or subjects are grouped based on an endogenous characteristic, leading to biased estimates. For instance, studying the effect of education on income using data from a specific university. |\n",
    "| Sample Selection Bias             | Non-random sample selection can introduce bias in the estimated relationships. For example, studying the job performance of employees who voluntarily participate in a training program may not represent the overall workforce.     |\n",
    "| Spurious Correlation              | When two variables appear to be related, but the correlation is due to chance or a common underlying factor, the estimated relationship may be spurious. For example, the correlation between ice cream sales and drowning incidents in the summer. |\n"
   ]
  },
  {
   "cell_type": "markdown",
   "id": "ca17854d",
   "metadata": {},
   "source": [
    "## Data"
   ]
  },
  {
   "cell_type": "code",
   "execution_count": 5,
   "id": "863d8b20",
   "metadata": {},
   "outputs": [],
   "source": [
    "selct_columns = ['lwage', 'exper', 'expersq', 'educ',  'age', 'kidslt6', 'kidsge6', 'motheduc', 'fatheduc', 'huseduc']\n",
    "df = (\n",
    "    pd.read_stata('http://fmwww.bc.edu/ec-p/data/wooldridge/mroz.dta')\n",
    "    .filter(selct_columns)\n",
    "    .dropna()\n",
    "    .assign(educgr = lambda X: pd.cut(X[\"educ\"], bins = [5,11,13, 18], labels=('Diploma','Degree','Masters'), ordered=True))\n",
    ")"
   ]
  },
  {
   "cell_type": "markdown",
   "id": "1735ffad",
   "metadata": {},
   "source": [
    "## Model"
   ]
  },
  {
   "cell_type": "code",
   "execution_count": 6,
   "id": "9ef31e48",
   "metadata": {},
   "outputs": [
    {
     "name": "stdout",
     "output_type": "stream",
     "text": [
      "                            OLS Regression Results                            \n",
      "==============================================================================\n",
      "Dep. Variable:                  lwage   R-squared:                       0.157\n",
      "Model:                            OLS   Adj. R-squared:                  0.151\n",
      "Method:                 Least Squares   F-statistic:                     26.29\n",
      "Date:                Sat, 29 Jul 2023   Prob (F-statistic):           1.30e-15\n",
      "Time:                        16:31:41   Log-Likelihood:                -431.60\n",
      "No. Observations:                 428   AIC:                             871.2\n",
      "Df Residuals:                     424   BIC:                             887.4\n",
      "Df Model:                           3                                         \n",
      "Covariance Type:            nonrobust                                         \n",
      "==============================================================================\n",
      "                 coef    std err          t      P>|t|      [0.025      0.975]\n",
      "------------------------------------------------------------------------------\n",
      "Intercept     -0.5220      0.199     -2.628      0.009      -0.912      -0.132\n",
      "exper          0.0416      0.013      3.155      0.002       0.016       0.067\n",
      "expersq       -0.0008      0.000     -2.063      0.040      -0.002   -3.82e-05\n",
      "educ           0.1075      0.014      7.598      0.000       0.080       0.135\n",
      "==============================================================================\n",
      "Omnibus:                       77.792   Durbin-Watson:                   1.961\n",
      "Prob(Omnibus):                  0.000   Jarque-Bera (JB):              300.917\n",
      "Skew:                          -0.753   Prob(JB):                     4.54e-66\n",
      "Kurtosis:                       6.822   Cond. No.                     2.21e+03\n",
      "==============================================================================\n",
      "\n",
      "Notes:\n",
      "[1] Standard Errors assume that the covariance matrix of the errors is correctly specified.\n",
      "[2] The condition number is large, 2.21e+03. This might indicate that there are\n",
      "strong multicollinearity or other numerical problems.\n"
     ]
    }
   ],
   "source": [
    "olsModel = smf.ols(formula = 'lwage ~ exper + expersq + educ', data=df).fit()\n",
    "print(olsModel.summary())"
   ]
  },
  {
   "cell_type": "markdown",
   "id": "03649686",
   "metadata": {},
   "source": [
    "## Detecting endogeneity\n",
    "| Approach                            | Description                                                                                                                                                                                             |\n",
    "|-------------------------------------|---------------------------------------------------------------------------------------------------------------------------------------------------------------------------------------------------------|\n",
    "| Theoretical Understanding           | Examine the theoretical framework and relationships between variables to identify potential issues of reverse causality, omitted variables, or simultaneous determination.                              |\n",
    "| Scatter Plots and Visual Inspection | Create scatter plots between independent and dependent variables to visualize their relationship and identify suspicious patterns or nonlinear associations that might indicate endogeneity.            |\n",
    "| Correlation Analysis                | Calculate correlation coefficients between variables; high correlations between the independent variable and the error term can suggest endogeneity.                                                    |\n",
    "| Durbin-Wu-Hausman Test              | Compare estimates from a standard OLS regression and an instrumental variables (IV) regression; a significant difference between the two estimates indicates the presence of endogeneity.               |\n",
    "| Hausman Test                        | Compare the consistency of OLS and IV estimates to check for endogeneity; rejecting the null hypothesis suggests the presence of endogeneity.                                                           |\n",
    "| Residual Analysis                   | Examine the residuals from the OLS regression to check for patterns or heteroscedasticity that might indicate endogeneity or model misspecification.                                                    |\n",
    "| Qualitative Information             | Gather insights from experts or stakeholders to identify potential sources of endogeneity that might not be apparent from the data alone.                                                               |\n"
   ]
  },
  {
   "cell_type": "code",
   "execution_count": 16,
   "id": "95f5b85b",
   "metadata": {},
   "outputs": [],
   "source": [
    "dependent = \"lwage\"\n",
    "exog = [\"exper\", \"expersq\"]\n",
    "endog = [\"educ\"]\n",
    "instrs = [\"motheduc\", \"fatheduc\", \"huseduc\"]\n",
    "\n",
    "\n",
    "data = sm.add_constant(df, prepend=False)\n",
    "\n",
    "ivModel = lm.IV2SLS(\n",
    "    dependent=data[dependent],\n",
    "    exog=data[exog],\n",
    "    endog=data[endog],\n",
    "    instruments=data[instrs]\n",
    ")\n",
    "\n",
    "ivModel = ivModel.fit(cov_type=\"homoskedastic\", debiased=True)"
   ]
  },
  {
   "cell_type": "code",
   "execution_count": 17,
   "id": "3418bd4d",
   "metadata": {},
   "outputs": [
    {
     "name": "stdout",
     "output_type": "stream",
     "text": [
      "                          IV-2SLS Estimation Summary                          \n",
      "==============================================================================\n",
      "Dep. Variable:                  lwage   R-squared:                      0.7688\n",
      "Estimator:                    IV-2SLS   Adj. R-squared:                 0.7671\n",
      "No. Observations:                 428   F-statistic:                    458.39\n",
      "Date:                Sat, Jul 29 2023   P-value (F-stat)                0.0000\n",
      "Time:                        16:41:57   Distribution:                 F(3,425)\n",
      "Cov. Estimator:         homoskedastic                                         \n",
      "                                                                              \n",
      "                             Parameter Estimates                              \n",
      "==============================================================================\n",
      "            Parameter  Std. Err.     T-stat    P-value    Lower CI    Upper CI\n",
      "------------------------------------------------------------------------------\n",
      "exper          0.0397     0.0133     2.9854     0.0030      0.0136      0.0659\n",
      "expersq       -0.0008     0.0004    -1.9611     0.0505     -0.0016   1.775e-06\n",
      "educ           0.0679     0.0074     9.1556     0.0000      0.0534      0.0825\n",
      "==============================================================================\n",
      "\n",
      "Endogenous: educ\n",
      "Instruments: motheduc, fatheduc, huseduc\n",
      "Unadjusted Covariance (Homoskedastic)\n",
      "Debiased: True\n"
     ]
    }
   ],
   "source": [
    "print(ivModel.summary)"
   ]
  },
  {
   "cell_type": "markdown",
   "id": "3aa58c42",
   "metadata": {},
   "source": [
    "### wooldridge_regression\n",
    "| Test                          | Description |\n",
    "|-------------------------------|-------------------------------------------------------------------------------------------------------------------------------|\n",
    "| <b>wooldridge_regression</b>  | Performs an additional regression using the original endogenous variable and the predicted values from the first-stage regression. The purpose of this additional regression is to compute the robust Wald test for endogeneity proposed by Wooldridge (1995). The Wald test compares the sum of squared residuals from the additional regression with the sum of squared residuals from the original IV regression. The results include the test statistic and the p-value for the Wald test. |\n",
    "| Decision | Reject H0 (All endogenous variables are exogenous) if the pvalue is less than the significance level (5%)|\n"
   ]
  },
  {
   "cell_type": "code",
   "execution_count": 21,
   "id": "a6aee94d",
   "metadata": {},
   "outputs": [
    {
     "data": {
      "text/plain": [
       "Wooldridge's regression test of exogeneity\n",
       "H0: Endogenous variables are exogenous\n",
       "Statistic: 4.9118\n",
       "P-value: 0.0267\n",
       "Distributed: chi2(1)\n",
       "WaldTestStatistic, id: 0x7fe48852f460"
      ]
     },
     "execution_count": 21,
     "metadata": {},
     "output_type": "execute_result"
    }
   ],
   "source": [
    "ivModel.wooldridge_regression"
   ]
  },
  {
   "cell_type": "markdown",
   "id": "9cc7d6b5",
   "metadata": {},
   "source": [
    "### Hausman test\n",
    "| Test          | Description|\n",
    "|---------------|------------|\n",
    "| Hausman Test  | The Hausman test is a statistical test used to assess the presence of endogeneity in a regression model. It helps to determine whether the ordinary least squares (OLS) estimator or the instrumental variables (IV) estimator is more appropriate for obtaining unbiased and consistent estimates of the coefficients in the presence of endogeneity.|\n",
    "|               |The test compares the difference between the OLS and IV coefficient estimates with their respective variance-covariance matrices to calculate the test statistic. |\n",
    "|Hypothesis    |The null lypothesis is that all endogenous variables are exogenous.|\n",
    "| Decision      | If the test statistic is greater than the critical value from a Chi-squared distribution, the null hypothesis of no endogeneity is rejected, indicating that the IV estimator is preferred.|\n",
    "|               |Reject H0  if the pvalue is less than the significance level (5%) |"
   ]
  },
  {
   "cell_type": "code",
   "execution_count": 25,
   "id": "bb9189fe",
   "metadata": {},
   "outputs": [
    {
     "data": {
      "text/plain": [
       "Wu-Hausman test of exogeneity\n",
       "H0: All endogenous variables are exogenous\n",
       "Statistic: 4.9144\n",
       "P-value: 0.0272\n",
       "Distributed: F(1,424)\n",
       "WaldTestStatistic, id: 0x7fe4b1fa7100"
      ]
     },
     "execution_count": 25,
     "metadata": {},
     "output_type": "execute_result"
    }
   ],
   "source": [
    "ivModel.wu_hausman()"
   ]
  },
  {
   "cell_type": "markdown",
   "id": "c2f352d8",
   "metadata": {},
   "source": [
    "## Determining valid Instruments"
   ]
  },
  {
   "cell_type": "markdown",
   "id": "bd7d870c",
   "metadata": {},
   "source": [
    "### Requirements for valid Instruments\n",
    "| Requirement           | Description                                                                                     | Check in Data                |\n",
    "|-----------------------|-------------------------------------------------------------------------------------------------|------------------------------|\n",
    "| Relevance             | The instrument should be correlated with the endogenous variable.                               | Correlation                  |\n",
    "| Exogeneity           | The instrument should be unrelated to the error term in the main regression equation.            | Residual Test |\n",
    "|                       |                                                                                                 |You run the first-stage regression (instrument regressed on the endogenous variable) and obtain the residuals. Then, you test whether these residuals are correlated with the instrument. If the correlation is low or statistically insignificant, it suggests that the instrument is exogenous                |\n",
    "| Exclusion Restrictions| The instrument should only affect the dependent variable through the endogenous variable.     | Theoretical Understanding    |\n",
    "| Sufficient Variation  | The instrument should have enough variability in the sample.                                 | Visual Inspection or Summary Statistics |\n"
   ]
  },
  {
   "cell_type": "markdown",
   "id": "681829b7",
   "metadata": {},
   "source": [
    "### Sargan-Hansen (Sargan) test for overidentification\n",
    "<p style=\"font-size:16px\">\n",
    "    Overidentification refers to a situation where there are more instrumental variables used than necessary to estimate the parameters of the endogenous variable. \n",
    "</p>\n",
    "\n",
    "| Test        | Description |\n",
    "|-------------|-------------|\n",
    "| Sargan test | The Sargan test is designed to check whether the instruments used in an IV regression are valid. The test works by comparing the OLS residuals with the predicted values of the endogenous variable obtained from the first-stage regression (regressing the endogenous variable on the instruments). If the instruments are valid, the OLS residuals should be uncorrelated with the predicted values, as they should not contain any endogeneity. |\n",
    "| Hypothesis  | The null hypothesis of the Sargan test is that the instruments are valid, meaning that the OLS residuals and the predicted values are uncorrelated  |\n",
    "| Decision    | If the p-value associated with the test is greater than the chosen significance level (e.g., 0.05), you fail to reject the null hypothesis, suggesting that the instruments are valid and the IV regression results can be trusted. |"
   ]
  },
  {
   "cell_type": "code",
   "execution_count": 22,
   "id": "0dd7dfa6",
   "metadata": {},
   "outputs": [
    {
     "data": {
      "text/plain": [
       "Sargan's test of overidentification\n",
       "H0: The model is not overidentified.\n",
       "Statistic: 1.1711\n",
       "P-value: 0.5568\n",
       "Distributed: chi2(2)\n",
       "WaldTestStatistic, id: 0x7fe4886e4a90"
      ]
     },
     "execution_count": 22,
     "metadata": {},
     "output_type": "execute_result"
    }
   ],
   "source": [
    "ivModel.sargan"
   ]
  },
  {
   "cell_type": "code",
   "execution_count": null,
   "id": "71404d23",
   "metadata": {},
   "outputs": [],
   "source": []
  }
 ],
 "metadata": {
  "kernelspec": {
   "display_name": "Python 3 (ipykernel)",
   "language": "python",
   "name": "python3"
  },
  "language_info": {
   "codemirror_mode": {
    "name": "ipython",
    "version": 3
   },
   "file_extension": ".py",
   "mimetype": "text/x-python",
   "name": "python",
   "nbconvert_exporter": "python",
   "pygments_lexer": "ipython3",
   "version": "3.9.16"
  },
  "toc": {
   "base_numbering": 1,
   "nav_menu": {},
   "number_sections": false,
   "sideBar": true,
   "skip_h1_title": false,
   "title_cell": "Table of Contents",
   "title_sidebar": "Contents",
   "toc_cell": false,
   "toc_position": {
    "height": "calc(100% - 180px)",
    "left": "10px",
    "top": "150px",
    "width": "172px"
   },
   "toc_section_display": true,
   "toc_window_display": true
  }
 },
 "nbformat": 4,
 "nbformat_minor": 5
}
